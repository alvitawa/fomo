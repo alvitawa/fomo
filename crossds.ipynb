{
 "cells": [
  {
   "cell_type": "code",
   "execution_count": 17,
   "outputs": [],
   "source": [],
   "metadata": {
    "collapsed": false,
    "ExecuteTime": {
     "end_time": "2024-05-30T22:16:01.052122871Z",
     "start_time": "2024-05-30T22:16:00.989350725Z"
    }
   },
   "id": "498de0e576f6ed9b"
  },
  {
   "cell_type": "code",
   "execution_count": 17,
   "outputs": [],
   "source": [],
   "metadata": {
    "collapsed": false,
    "ExecuteTime": {
     "end_time": "2024-05-30T22:16:01.105208073Z",
     "start_time": "2024-05-30T22:16:00.995741849Z"
    }
   },
   "id": "44965680d8d09c3b"
  },
  {
   "cell_type": "code",
   "execution_count": 18,
   "outputs": [],
   "source": [
    "import re\n",
    "from pathlib import Path\n",
    "\n",
    "from tensorboard.backend.event_processing import event_accumulator\n",
    "import pandas as pd\n",
    "\n",
    "\n",
    "baseline_avgs = {\n",
    "    'ucf101': 73.85,\n",
    "    'eurosat': 60.03,\n",
    "    'oxford_flowers': 74.83,\n",
    "    'dtd': 56.37,\n",
    "    'fgvc_aircraft': 31.09,\n",
    "    'caltech101': 95.40,\n",
    "    'oxford_pets': 94.12,\n",
    "    'stanford_cars': 68.65,\n",
    "    'food101': 90.66,\n",
    "    'sun397': 72.23,\n",
    "    'imagenet': 70.22,\n",
    "}\n",
    "\n",
    "losses = dict()\n",
    "\n",
    "from matplotlib import pyplot as plt\n",
    "\n",
    "per_m_base = dict()\n",
    "per_m_new = dict()\n",
    "\n",
    "def analy(ds):\n",
    "    try:\n",
    "        # all dirs like data/fomo/output/CoPrompt_\n",
    "        dirs = list(Path('data/fomo/output').glob('crossdsPF2'))\n",
    "        dirs = list(Path('data/fomo/output').glob('crossdsWW'))\n",
    "        rsa = []\n",
    "        for dir in dirs:\n",
    "            seed1_test = dir / f'test_new/{ds}/shots_16/CoPrompt/seed1/'\n",
    "            out = seed1_test / 'output.log'\n",
    "            acc = re.search(r'accuracy: ([0-9.]+)%', out.read_text()).group(1)\n",
    "            acc = float(acc)\n",
    "            rsa.append(('', acc, str(dir)))\n",
    "    except:\n",
    "        pass\n",
    "        \n",
    "        \n",
    "        \n",
    "    print(len(rsa))\n",
    "    # for test_acc, p, m in list(sorted(rs, reverse=True))[:5]:\n",
    "    #     print(f\"[{test_acc}], {p}\")\n",
    "    #     print(m)\n",
    "    # \n",
    "    print('---')\n",
    "    \n",
    "    for p, acc, m in list(sorted(rsa, reverse=True, key=lambda x:  x[1]))[:10]:\n",
    "        print(f\"[{acc}] {p}\")\n",
    "        print(m)\n",
    "        \n",
    "    assert len(rsa) == 1\n",
    "    p, acc, m = rsa[0]\n",
    "    return f\"{acc:.2f}\"\n",
    "    \n",
    "    # plt.plot(df['train/loss']['step'], df['train/loss']['value'])\n",
    "    \n",
    "    \n",
    "        "
   ],
   "metadata": {
    "collapsed": false,
    "ExecuteTime": {
     "end_time": "2024-05-30T22:16:01.105769029Z",
     "start_time": "2024-05-30T22:16:01.038863023Z"
    }
   },
   "id": "3019dc14bd16199b"
  },
  {
   "cell_type": "code",
   "execution_count": 19,
   "outputs": [
    {
     "name": "stdout",
     "output_type": "stream",
     "text": [
      "imagenet\n",
      "1\n",
      "---\n",
      "[68.8] \n",
      "data/fomo/output/crossdsWW\n",
      "\n",
      "\n",
      "caltech101\n",
      "1\n",
      "---\n",
      "[93.8] \n",
      "data/fomo/output/crossdsWW\n",
      "\n",
      "\n",
      "oxford_pets\n",
      "1\n",
      "---\n",
      "[89.5] \n",
      "data/fomo/output/crossdsWW\n",
      "\n",
      "\n",
      "stanford_cars\n",
      "1\n",
      "---\n",
      "[64.6] \n",
      "data/fomo/output/crossdsWW\n",
      "\n",
      "\n",
      "oxford_flowers\n",
      "1\n",
      "---\n",
      "[68.9] \n",
      "data/fomo/output/crossdsWW\n",
      "\n",
      "\n",
      "food101\n",
      "1\n",
      "---\n",
      "[84.5] \n",
      "data/fomo/output/crossdsWW\n",
      "\n",
      "\n",
      "fgvc_aircraft\n",
      "1\n",
      "---\n",
      "[23.0] \n",
      "data/fomo/output/crossdsWW\n",
      "\n",
      "\n",
      "sun397\n",
      "1\n",
      "---\n",
      "[65.8] \n",
      "data/fomo/output/crossdsWW\n",
      "\n",
      "\n",
      "dtd\n",
      "1\n",
      "---\n",
      "[42.5] \n",
      "data/fomo/output/crossdsWW\n",
      "\n",
      "\n",
      "eurosat\n",
      "1\n",
      "---\n",
      "[41.5] \n",
      "data/fomo/output/crossdsWW\n",
      "\n",
      "\n",
      "ucf101\n",
      "1\n",
      "---\n",
      "[67.2] \n",
      "data/fomo/output/crossdsWW\n",
      "\n",
      "\n",
      "68.80 & 93.80 & 89.50 & 64.60 & 68.90 & 84.50 & 23.00 & 65.80 & 42.50 & 41.50 & 67.20\n",
      "avg 64.55454545454546\n"
     ]
    },
    {
     "name": "stderr",
     "output_type": "stream",
     "text": [
      "/tmp/ipykernel_2711687/3518683544.py:10: DeprecationWarning: Calling np.sum(generator) is deprecated, and in the future will give a different result. Use np.sum(np.fromiter(generator)) or the python sum builtin instead.\n",
      "  print('avg', sum(float(x) for x in r) / len(r))\n"
     ]
    }
   ],
   "source": [
    "r = []\n",
    "for ds in 'imagenet caltech101 oxford_pets stanford_cars oxford_flowers food101 fgvc_aircraft sun397 dtd eurosat ucf101'.split():\n",
    "    print(ds)\n",
    "    k = analy(ds)\n",
    "    print('\\n')\n",
    "    r.append(k)\n",
    "    \n",
    "print(' & '.join(r))\n",
    "\n",
    "print('avg', sum(float(x) for x in r) / len(r))"
   ],
   "metadata": {
    "collapsed": false,
    "ExecuteTime": {
     "end_time": "2024-05-30T22:16:01.106553162Z",
     "start_time": "2024-05-30T22:16:01.039262671Z"
    }
   },
   "id": "8f000640234238ac"
  },
  {
   "cell_type": "code",
   "execution_count": 19,
   "outputs": [],
   "source": [],
   "metadata": {
    "collapsed": false,
    "ExecuteTime": {
     "end_time": "2024-05-30T22:16:01.107882843Z",
     "start_time": "2024-05-30T22:16:01.049470708Z"
    }
   },
   "id": "945d942d17bb6861"
  },
  {
   "cell_type": "code",
   "execution_count": 19,
   "outputs": [],
   "source": [],
   "metadata": {
    "collapsed": false,
    "ExecuteTime": {
     "end_time": "2024-05-30T22:16:01.108153588Z",
     "start_time": "2024-05-30T22:16:01.095058626Z"
    }
   },
   "id": "1ced4b2768b7eaee"
  },
  {
   "cell_type": "code",
   "execution_count": 20,
   "outputs": [],
   "source": [
    "# analy('dtd')"
   ],
   "metadata": {
    "collapsed": false,
    "ExecuteTime": {
     "end_time": "2024-05-30T22:16:01.108389196Z",
     "start_time": "2024-05-30T22:16:01.095395739Z"
    }
   },
   "id": "6b1c9b1cb12f395"
  },
  {
   "cell_type": "code",
   "execution_count": 20,
   "outputs": [],
   "source": [],
   "metadata": {
    "collapsed": false,
    "ExecuteTime": {
     "end_time": "2024-05-30T22:16:01.108563695Z",
     "start_time": "2024-05-30T22:16:01.095884937Z"
    }
   },
   "id": "4a5fdf0686727196"
  },
  {
   "cell_type": "code",
   "execution_count": 20,
   "outputs": [],
   "source": [],
   "metadata": {
    "collapsed": false,
    "ExecuteTime": {
     "end_time": "2024-05-30T22:16:01.108714536Z",
     "start_time": "2024-05-30T22:16:01.096260425Z"
    }
   },
   "id": "973509a19e40472f"
  },
  {
   "cell_type": "code",
   "execution_count": 20,
   "outputs": [],
   "source": [],
   "metadata": {
    "collapsed": false,
    "ExecuteTime": {
     "end_time": "2024-05-30T22:16:01.108888328Z",
     "start_time": "2024-05-30T22:16:01.096453537Z"
    }
   },
   "id": "8bf6b46c8e48e7ad"
  },
  {
   "cell_type": "code",
   "execution_count": 20,
   "outputs": [],
   "source": [],
   "metadata": {
    "collapsed": false,
    "ExecuteTime": {
     "end_time": "2024-05-30T22:16:01.134458142Z",
     "start_time": "2024-05-30T22:16:01.096633358Z"
    }
   },
   "id": "85c5a960eea43a32"
  },
  {
   "cell_type": "code",
   "execution_count": 20,
   "outputs": [],
   "source": [],
   "metadata": {
    "collapsed": false,
    "ExecuteTime": {
     "end_time": "2024-05-30T22:16:01.134836242Z",
     "start_time": "2024-05-30T22:16:01.097028008Z"
    }
   },
   "id": "3a4b0f4c67e88631"
  },
  {
   "cell_type": "code",
   "execution_count": 20,
   "outputs": [],
   "source": [],
   "metadata": {
    "collapsed": false,
    "ExecuteTime": {
     "end_time": "2024-05-30T22:16:01.135011151Z",
     "start_time": "2024-05-30T22:16:01.097256704Z"
    }
   },
   "id": "7ef6476baac17766"
  },
  {
   "cell_type": "code",
   "execution_count": 20,
   "outputs": [],
   "source": [],
   "metadata": {
    "collapsed": false,
    "ExecuteTime": {
     "end_time": "2024-05-30T22:16:01.135186570Z",
     "start_time": "2024-05-30T22:16:01.097460513Z"
    }
   },
   "id": "9e919ab9212b513d"
  },
  {
   "cell_type": "code",
   "execution_count": 20,
   "outputs": [],
   "source": [],
   "metadata": {
    "collapsed": false,
    "ExecuteTime": {
     "end_time": "2024-05-30T22:16:01.135379887Z",
     "start_time": "2024-05-30T22:16:01.097735041Z"
    }
   },
   "id": "944349b253728265"
  },
  {
   "cell_type": "code",
   "execution_count": 20,
   "outputs": [],
   "source": [],
   "metadata": {
    "collapsed": false,
    "ExecuteTime": {
     "end_time": "2024-05-30T22:16:01.135601892Z",
     "start_time": "2024-05-30T22:16:01.100186897Z"
    }
   },
   "id": "8e3c9be1b05fe7d6"
  },
  {
   "cell_type": "code",
   "execution_count": 21,
   "outputs": [],
   "source": [
    "# loss_stanford_cars.tex"
   ],
   "metadata": {
    "collapsed": false,
    "ExecuteTime": {
     "end_time": "2024-05-30T22:16:01.208574199Z",
     "start_time": "2024-05-30T22:16:01.103254618Z"
    }
   },
   "id": "56e547ea7c4869c"
  },
  {
   "cell_type": "code",
   "execution_count": 21,
   "outputs": [],
   "source": [],
   "metadata": {
    "collapsed": false,
    "ExecuteTime": {
     "end_time": "2024-05-30T22:16:01.225428046Z",
     "start_time": "2024-05-30T22:16:01.146560118Z"
    }
   },
   "id": "a92d7d9955dcdbc1"
  }
 ],
 "metadata": {
  "kernelspec": {
   "display_name": "Python 3",
   "language": "python",
   "name": "python3"
  },
  "language_info": {
   "codemirror_mode": {
    "name": "ipython",
    "version": 2
   },
   "file_extension": ".py",
   "mimetype": "text/x-python",
   "name": "python",
   "nbconvert_exporter": "python",
   "pygments_lexer": "ipython2",
   "version": "2.7.6"
  }
 },
 "nbformat": 4,
 "nbformat_minor": 5
}
