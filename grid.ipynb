{
 "cells": [
  {
   "cell_type": "code",
   "execution_count": 36,
   "outputs": [],
   "source": [],
   "metadata": {
    "collapsed": false,
    "ExecuteTime": {
     "end_time": "2024-05-14T06:50:46.456470191Z",
     "start_time": "2024-05-14T06:50:46.449333425Z"
    }
   },
   "id": "498de0e576f6ed9b"
  },
  {
   "cell_type": "code",
   "execution_count": 37,
   "outputs": [],
   "source": [
    "import re\n",
    "from pathlib import Path\n",
    "\n",
    "from tensorboard.backend.event_processing import event_accumulator\n",
    "import pandas as pd\n",
    "\n",
    "def analy(ds):\n",
    "    def parse_tensorboard(path, scalars):\n",
    "        \"\"\"returns a dictionary of pandas dataframes for each requested scalar\"\"\"\n",
    "        ea = event_accumulator.EventAccumulator(\n",
    "            path,\n",
    "            size_guidance={event_accumulator.SCALARS: 0},\n",
    "        )\n",
    "        _absorb_print = ea.Reload()\n",
    "        # make sure the scalars are in the event accumulator tags\n",
    "        assert all(\n",
    "            s in ea.Tags()[\"scalars\"] for s in scalars\n",
    "        ), \"some scalars were not found in the event accumulator\"\n",
    "        return {k: pd.DataFrame(ea.Scalars(k)) for k in scalars}\n",
    "\n",
    "    # all dirs like data/fomo/output/CoPrompt_\n",
    "    dirs = list(Path('data/fomo/output').glob('CoPrompt_*'))\n",
    "    rs = []\n",
    "    rsa = []\n",
    "    for dir in dirs:\n",
    "        seed1_train = dir / f'train_base/{ds}/shots_16/CoPrompt/coprompt/seed1/'\n",
    "        tensorboard = seed1_train / 'tensorboard'\n",
    "        clog = seed1_train / 'clog.txt'\n",
    "        \n",
    "        if not clog.exists():\n",
    "            continue\n",
    "            \n",
    "        with open(clog, 'r') as f:\n",
    "            lines = f.readlines()\n",
    "            if len(lines) < 2:\n",
    "                continue\n",
    "            p = lines[-1][4:-5]\n",
    "        \n",
    "        # read from tensorboard)\n",
    "        try:\n",
    "            df = parse_tensorboard(tensorboard, ['test/accuracy'])\n",
    "            test_acc = df['test/accuracy'].iloc[-1]['value']\n",
    "        except Exception as e:\n",
    "            continue\n",
    "            \n",
    "        rs.append((test_acc, p, str(dir)))\n",
    "        \n",
    "        seed1_test = dir / f'test_new/{ds}/shots_16/CoPrompt/seed1/'\n",
    "        out = seed1_test / 'output.log'\n",
    "# => result\n",
    "# * total: 1,410\n",
    "# * correct: 1,070\n",
    "# * accuracy: 75.9%\n",
    "# * error: 24.1%\n",
    "# * macro_f1: 70.8%\n",
    "        \n",
    "        try:\n",
    "            # use regex to match format above\n",
    "            acc = re.search(r'accuracy: ([0-9.]+)%', out.read_text()).group(1)\n",
    "            acc = float(acc)\n",
    "            rsa.append((test_acc, p, acc, str(dir)))\n",
    "        except Exception as e:\n",
    "            pass\n",
    "        \n",
    "        \n",
    "        \n",
    "        \n",
    "    print(len(rs), len(rsa))\n",
    "    # for test_acc, p, m in list(sorted(rs, reverse=True))[:5]:\n",
    "    #     print(f\"[{test_acc}], {p}\")\n",
    "    #     print(m)\n",
    "    # \n",
    "    print('---')\n",
    "    for test_acc, p, acc, m in list(sorted(rsa, reverse=True, key=lambda x:  x[0] + x[2]))[:5]:\n",
    "        print(f\"[{test_acc}], [{acc}], {p}\")\n",
    "        print(m)\n",
    "    # \n",
    "    #%%\n",
    "        "
   ],
   "metadata": {
    "collapsed": false,
    "ExecuteTime": {
     "end_time": "2024-05-14T06:50:46.456784383Z",
     "start_time": "2024-05-14T06:50:46.449528123Z"
    }
   },
   "id": "3019dc14bd16199b"
  },
  {
   "cell_type": "code",
   "execution_count": 38,
   "outputs": [
    {
     "name": "stdout",
     "output_type": "stream",
     "text": [
      "123 47\n",
      "---\n",
      "[75.64633178710938], [78.0], inspirational  \n",
      "data/fomo/output/CoPrompt_m0.9_wstd0.012_nctxt1_maxepoch16\n",
      "[77.86969757080078], [75.2], casually whidoing  \n",
      "data/fomo/output/CoPrompt_m0.9_wstd0.001_nctxt3_maxepoch16\n",
      "[76.68045806884766], [75.9], jing altman attempting  \n",
      "data/fomo/output/CoPrompt_m0.0_wstd0.012_nctxt3_maxepoch16\n",
      "[76.9389877319336], [74.7], casually trying doing  \n",
      "data/fomo/output/CoPrompt_m0.9_wstd0.012_nctxt3_maxepoch16\n",
      "[76.78386688232422], [74.6], awesome instructional  \n",
      "data/fomo/output/CoPrompt_m0.0_wstd0.001_nctxt2_maxepoch16\n"
     ]
    }
   ],
   "source": [
    "analy('ucf101')"
   ],
   "metadata": {
    "collapsed": false,
    "ExecuteTime": {
     "end_time": "2024-05-14T06:50:55.624461084Z",
     "start_time": "2024-05-14T06:50:46.459498735Z"
    }
   },
   "id": "945d942d17bb6861"
  },
  {
   "cell_type": "code",
   "execution_count": 39,
   "outputs": [
    {
     "name": "stdout",
     "output_type": "stream",
     "text": [
      "48 48\n",
      "---\n",
      "[89.21428680419922], [79.9], increased underdog gihc  \n",
      "data/fomo/output/CoPrompt_m0.0_wstd0.012_nctxt4_maxepoch16\n",
      "[89.54762268066406], [75.5], organic career ativesized  \n",
      "data/fomo/output/CoPrompt_m0.0_wstd0.001_nctxt4_maxepoch16\n",
      "[77.83333587646484], [80.6], # canadiens  \n",
      "data/fomo/output/CoPrompt_m0.0_wstd0.001_nctxt2_maxepoch16\n",
      "[80.33333587646484], [76.3], taco lue novascotia  \n",
      "data/fomo/output/CoPrompt_m0.0_wstd0.08_nctxt3_maxepoch8\n",
      "[74.88095092773438], [81.3], raqmmon  \n",
      "data/fomo/output/CoPrompt_m0.0_wstd0.08_nctxt2_maxepoch16\n"
     ]
    }
   ],
   "source": [
    "analy('eurosat')"
   ],
   "metadata": {
    "collapsed": false,
    "ExecuteTime": {
     "end_time": "2024-05-14T06:50:56.147986895Z",
     "start_time": "2024-05-14T06:50:55.603313191Z"
    }
   },
   "id": "1ced4b2768b7eaee"
  },
  {
   "cell_type": "code",
   "execution_count": 40,
   "outputs": [
    {
     "name": "stdout",
     "output_type": "stream",
     "text": [
      "48 48\n",
      "---\n",
      "[74.54890441894531], [78.3], flowering flower  \n",
      "data/fomo/output/CoPrompt_m0.9_wstd0.08_nctxt2_maxepoch16\n",
      "[75.68850708007812], [76.0], flower  \n",
      "data/fomo/output/CoPrompt_m0.9_wstd0.012_nctxt1_maxepoch16\n",
      "[75.30863952636719], [76.3], flowering  \n",
      "data/fomo/output/CoPrompt_m0.9_wstd0.012_nctxt1_maxepoch8\n",
      "[75.59354400634766], [75.9], perennial wonderful scented :-  \n",
      "data/fomo/output/CoPrompt_m0.0_wstd0.012_nctxt4_maxepoch8\n",
      "[75.40361022949219], [75.7], pollinators  \n",
      "data/fomo/output/CoPrompt_m0.0_wstd0.001_nctxt1_maxepoch16\n"
     ]
    }
   ],
   "source": [
    "analy('oxford_flowers')"
   ],
   "metadata": {
    "collapsed": false,
    "ExecuteTime": {
     "end_time": "2024-05-14T06:50:58.924417069Z",
     "start_time": "2024-05-14T06:50:56.149411751Z"
    }
   },
   "id": "6b1c9b1cb12f395"
  },
  {
   "cell_type": "code",
   "execution_count": 41,
   "outputs": [
    {
     "name": "stdout",
     "output_type": "stream",
     "text": [
      "47 47\n",
      "---\n",
      "[62.96296310424805], [62.8], beautiful abstract  \n",
      "data/fomo/output/CoPrompt_m0.0_wstd0.012_nctxt2_maxepoch16\n",
      "[62.03703689575195], [61.8], cropped  \n",
      "data/fomo/output/CoPrompt_m0.9_wstd0.001_nctxt1_maxepoch16\n",
      "[63.657405853271484], [58.9], beautiful abstract  \n",
      "data/fomo/output/CoPrompt_m0.0_wstd0.001_nctxt2_maxepoch16\n",
      "[62.38425827026367], [59.3], textures abstract  \n",
      "data/fomo/output/CoPrompt_m0.9_wstd0.001_nctxt2_maxepoch16\n",
      "[58.33333206176758], [62.8], deeply ically exploring  \n",
      "data/fomo/output/CoPrompt_m0.9_wstd0.001_nctxt3_maxepoch8\n"
     ]
    }
   ],
   "source": [
    "analy('dtd') # "
   ],
   "metadata": {
    "collapsed": false,
    "ExecuteTime": {
     "end_time": "2024-05-14T06:51:00.381796509Z",
     "start_time": "2024-05-14T06:50:58.921554766Z"
    }
   },
   "id": "4a5fdf0686727196"
  },
  {
   "cell_type": "code",
   "execution_count": 42,
   "outputs": [
    {
     "name": "stdout",
     "output_type": "stream",
     "text": [
      "44 44\n",
      "---\n",
      "[32.953182220458984], [35.9], axiairline ...!! powerful  \n",
      "data/fomo/output/CoPrompt_m0.0_wstd0.001_nctxt4_maxepoch16\n",
      "[30.912364959716797], [36.1], laminsuperb  \n",
      "data/fomo/output/CoPrompt_m0.0_wstd0.012_nctxt2_maxepoch8\n",
      "[31.032413482666016], [35.8], westspecial aviation good  \n",
      "data/fomo/output/CoPrompt_m0.9_wstd0.001_nctxt4_maxepoch16\n",
      "[31.21248435974121], [35.5], airjaguar  \n",
      "data/fomo/output/CoPrompt_m0.0_wstd0.012_nctxt2_maxepoch16\n",
      "[30.792316436767578], [35.2], finance aviation  \n",
      "data/fomo/output/CoPrompt_m0.0_wstd0.001_nctxt2_maxepoch16\n"
     ]
    }
   ],
   "source": [
    "analy('fgvc_aircraft') # "
   ],
   "metadata": {
    "collapsed": false,
    "ExecuteTime": {
     "end_time": "2024-05-14T06:51:03.362209388Z",
     "start_time": "2024-05-14T06:51:00.376644891Z"
    }
   },
   "id": "973509a19e40472f"
  },
  {
   "cell_type": "code",
   "execution_count": 43,
   "outputs": [
    {
     "name": "stdout",
     "output_type": "stream",
     "text": [
      "46 46\n",
      "---\n",
      "[97.80503845214844], [95.3], assuming  \n",
      "data/fomo/output/CoPrompt_m0.9_wstd0.08_nctxt1_maxepoch8\n",
      "[97.80503845214844], [95.1], davis  \n",
      "data/fomo/output/CoPrompt_m0.0_wstd0.001_nctxt1_maxepoch16\n",
      "[97.28857421875], [95.5], icattractive interesting sized  \n",
      "data/fomo/output/CoPrompt_m0.0_wstd0.001_nctxt4_maxepoch8\n",
      "[97.67591857910156], [95.1], webster classification  \n",
      "data/fomo/output/CoPrompt_m0.0_wstd0.001_nctxt2_maxepoch16\n",
      "[97.54680633544922], [95.2], picture depicted  \n",
      "data/fomo/output/CoPrompt_m0.9_wstd0.012_nctxt2_maxepoch8\n"
     ]
    }
   ],
   "source": [
    "analy('caltech101') # "
   ],
   "metadata": {
    "collapsed": false,
    "ExecuteTime": {
     "end_time": "2024-05-14T06:51:06.538332488Z",
     "start_time": "2024-05-14T06:51:03.358175212Z"
    }
   },
   "id": "8bf6b46c8e48e7ad"
  },
  {
   "cell_type": "code",
   "execution_count": 44,
   "outputs": [
    {
     "name": "stdout",
     "output_type": "stream",
     "text": [
      "48 48\n",
      "---\n",
      "[95.1089859008789], [98.2], catsofinstagram petday !  \n",
      "data/fomo/output/CoPrompt_m0.9_wstd0.001_nctxt3_maxepoch16\n",
      "[94.47102355957031], [97.5], slowed  \n",
      "data/fomo/output/CoPrompt_m0.9_wstd0.001_nctxt1_maxepoch16\n",
      "[94.31153869628906], [97.6], majestic goblin  \n",
      "data/fomo/output/CoPrompt_m0.0_wstd0.001_nctxt2_maxepoch16\n",
      "[94.7368392944336], [96.9], relax mol  \n",
      "data/fomo/output/CoPrompt_m0.9_wstd0.08_nctxt2_maxepoch8\n",
      "[93.83306884765625], [97.8], terribly napping interference  \n",
      "data/fomo/output/CoPrompt_m0.0_wstd0.012_nctxt3_maxepoch16\n"
     ]
    }
   ],
   "source": [
    "analy('oxford_pets') # "
   ],
   "metadata": {
    "collapsed": false,
    "ExecuteTime": {
     "end_time": "2024-05-14T06:51:07.666115511Z",
     "start_time": "2024-05-14T06:51:06.537315646Z"
    }
   },
   "id": "85c5a960eea43a32"
  },
  {
   "cell_type": "code",
   "execution_count": 45,
   "outputs": [
    {
     "name": "stdout",
     "output_type": "stream",
     "text": [
      "48 48\n",
      "---\n",
      "[64.44277954101562], [74.4], another  \n",
      "data/fomo/output/CoPrompt_m0.0_wstd0.001_nctxt1_maxepoch16\n",
      "[64.26786804199219], [73.8], wednesday  \n",
      "data/fomo/output/CoPrompt_m0.0_wstd0.012_nctxt1_maxepoch8\n",
      "[64.7926025390625], [72.9], another  \n",
      "data/fomo/output/CoPrompt_m0.0_wstd0.012_nctxt1_maxepoch16\n",
      "[62.9685173034668], [74.0], trail priced versatile authentic  \n",
      "data/fomo/output/CoPrompt_m0.9_wstd0.012_nctxt4_maxepoch16\n",
      "[63.91804122924805], [72.8], briefly  \n",
      "data/fomo/output/CoPrompt_m0.0_wstd0.001_nctxt1_maxepoch8\n"
     ]
    }
   ],
   "source": [
    "analy('stanford_cars') # "
   ],
   "metadata": {
    "collapsed": false,
    "ExecuteTime": {
     "end_time": "2024-05-14T06:51:13.180100536Z",
     "start_time": "2024-05-14T06:51:07.663039206Z"
    }
   },
   "id": "3a4b0f4c67e88631"
  },
  {
   "cell_type": "code",
   "execution_count": 46,
   "outputs": [
    {
     "name": "stdout",
     "output_type": "stream",
     "text": [
      "48 48\n",
      "---\n",
      "[90.54901885986328], [90.5], having luxury equally delish  \n",
      "data/fomo/output/CoPrompt_m0.9_wstd0.001_nctxt4_maxepoch16\n",
      "[90.1568603515625], [90.2], craving  \n",
      "data/fomo/output/CoPrompt_m0.0_wstd0.001_nctxt1_maxepoch16\n",
      "[90.09803771972656], [90.1], craving  \n",
      "data/fomo/output/CoPrompt_m0.0_wstd0.001_nctxt1_maxepoch8\n",
      "[90.03921508789062], [90.0], super 😋  \n",
      "data/fomo/output/CoPrompt_m0.9_wstd0.012_nctxt2_maxepoch16\n",
      "[90.0261459350586], [90.0], muchas heaven  \n",
      "data/fomo/output/CoPrompt_m0.0_wstd0.08_nctxt2_maxepoch16\n"
     ]
    }
   ],
   "source": [
    "analy('food101') # "
   ],
   "metadata": {
    "collapsed": false,
    "ExecuteTime": {
     "end_time": "2024-05-14T06:51:16.397350514Z",
     "start_time": "2024-05-14T06:51:13.168997620Z"
    }
   },
   "id": "7ef6476baac17766"
  },
  {
   "cell_type": "code",
   "execution_count": 47,
   "outputs": [
    {
     "name": "stdout",
     "output_type": "stream",
     "text": [
      "39 32\n",
      "---\n",
      "[74.36180877685547], [78.0], picture  \n",
      "data/fomo/output/CoPrompt_m0.9_wstd0.001_nctxt1_maxepoch16\n",
      "[74.01004791259766], [78.1], apparently  \n",
      "data/fomo/output/CoPrompt_m0.0_wstd0.001_nctxt1_maxepoch16\n",
      "[74.16080474853516], [77.7], photophotograph  \n",
      "data/fomo/output/CoPrompt_m0.9_wstd0.001_nctxt2_maxepoch16\n",
      "[73.94974517822266], [77.8], these  \n",
      "data/fomo/output/CoPrompt_m0.0_wstd0.012_nctxt1_maxepoch16\n",
      "[73.939697265625], [77.8], delightful  \n",
      "data/fomo/output/CoPrompt_m0.0_wstd0.08_nctxt1_maxepoch8\n"
     ]
    }
   ],
   "source": [
    "analy('sun397') # "
   ],
   "metadata": {
    "collapsed": false,
    "ExecuteTime": {
     "end_time": "2024-05-14T06:51:30.083164580Z",
     "start_time": "2024-05-14T06:51:16.391778347Z"
    }
   },
   "id": "9e919ab9212b513d"
  },
  {
   "cell_type": "code",
   "execution_count": 49,
   "outputs": [
    {
     "name": "stdout",
     "output_type": "stream",
     "text": [
      "8 7\n",
      "---\n",
      "[73.68000030517578], [69.3], behold behold : probably partially large (?) a  \n",
      "data/fomo/output/CoPrompt_m0.0_wstd0.001_nctxt8_maxepoch16\n",
      "[73.3759994506836], [69.5], jackie  \n",
      "data/fomo/output/CoPrompt_m0.0_wstd0.001_nctxt1_maxepoch16\n",
      "[73.27200317382812], [69.5], ridiculously ridiculously --  \n",
      "data/fomo/output/CoPrompt_m0.9_wstd0.012_nctxt3_maxepoch8\n",
      "[73.50399780273438], [68.8], possibly perfectly approximately reasonably technically (?) large favorite  \n",
      "data/fomo/output/CoPrompt_m0.9_wstd0.001_nctxt8_maxepoch8\n",
      "[73.63999938964844], [68.6], photogenic interested . a  \n",
      "data/fomo/output/CoPrompt_m0.0_wstd0.001_nctxt4_maxepoch32\n"
     ]
    }
   ],
   "source": [
    "analy('imagenet') # "
   ],
   "metadata": {
    "collapsed": false,
    "ExecuteTime": {
     "end_time": "2024-05-14T06:52:17.667755974Z",
     "start_time": "2024-05-14T06:52:07.215538776Z"
    }
   },
   "id": "944349b253728265"
  },
  {
   "cell_type": "code",
   "execution_count": 48,
   "outputs": [],
   "source": [],
   "metadata": {
    "collapsed": false,
    "ExecuteTime": {
     "end_time": "2024-05-14T06:51:41.329478607Z",
     "start_time": "2024-05-14T06:51:41.329091465Z"
    }
   },
   "id": "8e3c9be1b05fe7d6"
  }
 ],
 "metadata": {
  "kernelspec": {
   "display_name": "Python 3",
   "language": "python",
   "name": "python3"
  },
  "language_info": {
   "codemirror_mode": {
    "name": "ipython",
    "version": 2
   },
   "file_extension": ".py",
   "mimetype": "text/x-python",
   "name": "python",
   "nbconvert_exporter": "python",
   "pygments_lexer": "ipython2",
   "version": "2.7.6"
  }
 },
 "nbformat": 4,
 "nbformat_minor": 5
}
