{
 "cells": [
  {
   "cell_type": "code",
   "execution_count": null,
   "outputs": [],
   "source": [],
   "metadata": {
    "collapsed": false,
    "ExecuteTime": {
     "end_time": "2024-05-12T14:07:03.435827982Z",
     "start_time": "2024-05-12T14:07:03.430265320Z"
    }
   },
   "id": "498de0e576f6ed9b"
  },
  {
   "cell_type": "code",
   "execution_count": 1,
   "outputs": [],
   "source": [
    "import re\n",
    "from pathlib import Path\n",
    "\n",
    "from tensorboard.backend.event_processing import event_accumulator\n",
    "import pandas as pd\n",
    "\n",
    "def analy(ds):\n",
    "    def parse_tensorboard(path, scalars):\n",
    "        \"\"\"returns a dictionary of pandas dataframes for each requested scalar\"\"\"\n",
    "        ea = event_accumulator.EventAccumulator(\n",
    "            path,\n",
    "            size_guidance={event_accumulator.SCALARS: 0},\n",
    "        )\n",
    "        _absorb_print = ea.Reload()\n",
    "        # make sure the scalars are in the event accumulator tags\n",
    "        assert all(\n",
    "            s in ea.Tags()[\"scalars\"] for s in scalars\n",
    "        ), \"some scalars were not found in the event accumulator\"\n",
    "        return {k: pd.DataFrame(ea.Scalars(k)) for k in scalars}\n",
    "\n",
    "    # all dirs like data/fomo/output/CoPrompt_\n",
    "    dirs = list(Path('data/fomo/output').glob('CoPrompt_*'))\n",
    "    rs = []\n",
    "    rsa = []\n",
    "    for dir in dirs:\n",
    "        seed1_train = dir / f'train_base/{ds}/shots_16/CoPrompt/coprompt/seed1/'\n",
    "        tensorboard = seed1_train / 'tensorboard'\n",
    "        clog = seed1_train / 'clog.txt'\n",
    "        \n",
    "        if not clog.exists():\n",
    "            continue\n",
    "            \n",
    "        with open(clog, 'r') as f:\n",
    "            lines = f.readlines()\n",
    "            if len(lines) < 2:\n",
    "                continue\n",
    "            p = lines[-1][4:-5]\n",
    "        \n",
    "        # read from tensorboard)\n",
    "        try:\n",
    "            df = parse_tensorboard(tensorboard, ['test/accuracy'])\n",
    "            test_acc = df['test/accuracy'].iloc[-1]['value']\n",
    "        except Exception as e:\n",
    "            continue\n",
    "            \n",
    "        rs.append((test_acc, p, str(dir)))\n",
    "        \n",
    "        seed1_test = dir / f'test_new/{ds}/shots_16/CoPrompt/seed1/'\n",
    "        out = seed1_test / 'output.log'\n",
    "# => result\n",
    "# * total: 1,410\n",
    "# * correct: 1,070\n",
    "# * accuracy: 75.9%\n",
    "# * error: 24.1%\n",
    "# * macro_f1: 70.8%\n",
    "        \n",
    "        try:\n",
    "            # use regex to match format above\n",
    "            acc = re.search(r'accuracy: ([0-9.]+)%', out.read_text()).group(1)\n",
    "            acc = float(acc)\n",
    "            rsa.append((test_acc, p, acc, str(dir)))\n",
    "        except Exception as e:\n",
    "            pass\n",
    "        \n",
    "        \n",
    "        \n",
    "        \n",
    "    print(len(rs), len(rsa))\n",
    "    for test_acc, p, m in list(sorted(rs, reverse=True))[:5]:\n",
    "        print(f\"[{test_acc}], {p}\")\n",
    "        print(m)\n",
    "\n",
    "    print('---')\n",
    "    for test_acc, p, acc, m in list(sorted(rsa, reverse=True, key=lambda x:  x[0] + x[2]))[:5]:\n",
    "        print(f\"[{test_acc}], [{acc}], {p}\")\n",
    "        print(m)\n",
    "    # \n",
    "    #%%\n",
    "        "
   ],
   "metadata": {
    "collapsed": false,
    "ExecuteTime": {
     "end_time": "2024-05-12T14:07:03.747218726Z",
     "start_time": "2024-05-12T14:07:03.430487901Z"
    }
   },
   "id": "3019dc14bd16199b"
  },
  {
   "cell_type": "code",
   "execution_count": 2,
   "outputs": [
    {
     "name": "stderr",
     "output_type": "stream",
     "text": [
      "2024-05-12 16:07:03.953061: I tensorflow/core/util/port.cc:113] oneDNN custom operations are on. You may see slightly different numerical results due to floating-point round-off errors from different computation orders. To turn them off, set the environment variable `TF_ENABLE_ONEDNN_OPTS=0`.\n",
      "2024-05-12 16:07:03.998776: I tensorflow/core/platform/cpu_feature_guard.cc:210] This TensorFlow binary is optimized to use available CPU instructions in performance-critical operations.\n",
      "To enable the following instructions: AVX2 AVX_VNNI FMA, in other operations, rebuild TensorFlow with the appropriate compiler flags.\n",
      "2024-05-12 16:07:04.750659: W tensorflow/compiler/tf2tensorrt/utils/py_utils.cc:38] TF-TRT Warning: Could not find TensorRT\n"
     ]
    },
    {
     "name": "stdout",
     "output_type": "stream",
     "text": [
      "123 47\n",
      "[77.86969757080078], casually whidoing  \n",
      "data/fomo/output/CoPrompt_m0.9_wstd0.001_nctxt3_maxepoch16\n",
      "[77.24922180175781], katelyn davis doing \"#  \n",
      "data/fomo/output/CoPrompt_m0.0_wstd0.001_nctxt4_maxepoch16\n",
      "[76.9389877319336], casually trying doing  \n",
      "data/fomo/output/CoPrompt_m0.9_wstd0.012_nctxt3_maxepoch16\n",
      "[76.8355712890625], freaking iit alex egan #  \n",
      "data/fomo/output/CoPrompt_m0.0_wstd0.001_nctxt5_maxepoch8\n",
      "[76.8355712890625], daimhkinternational chan can responsibly \"  \n",
      "data/fomo/output/CoPrompt_m0.0_wstd0.008_nctxt7_maxepoch16\n",
      "---\n",
      "[75.64633178710938], [78.0], inspirational  \n",
      "data/fomo/output/CoPrompt_m0.9_wstd0.012_nctxt1_maxepoch16\n",
      "[77.86969757080078], [75.2], casually whidoing  \n",
      "data/fomo/output/CoPrompt_m0.9_wstd0.001_nctxt3_maxepoch16\n",
      "[76.68045806884766], [75.9], jing altman attempting  \n",
      "data/fomo/output/CoPrompt_m0.0_wstd0.012_nctxt3_maxepoch16\n",
      "[76.9389877319336], [74.7], casually trying doing  \n",
      "data/fomo/output/CoPrompt_m0.9_wstd0.012_nctxt3_maxepoch16\n",
      "[76.78386688232422], [74.6], awesome instructional  \n",
      "data/fomo/output/CoPrompt_m0.0_wstd0.001_nctxt2_maxepoch16\n"
     ]
    }
   ],
   "source": [
    "analy('ucf101')"
   ],
   "metadata": {
    "collapsed": false,
    "ExecuteTime": {
     "end_time": "2024-05-12T14:07:12.574798511Z",
     "start_time": "2024-05-12T14:07:03.749239847Z"
    }
   },
   "id": "945d942d17bb6861"
  },
  {
   "cell_type": "code",
   "execution_count": 3,
   "outputs": [
    {
     "name": "stdout",
     "output_type": "stream",
     "text": [
      "48 48\n",
      "[90.61904907226562], aturegodly novascotia cornwall  \n",
      "data/fomo/output/CoPrompt_m0.0_wstd0.08_nctxt4_maxepoch16\n",
      "[89.54762268066406], organic career ativesized  \n",
      "data/fomo/output/CoPrompt_m0.0_wstd0.001_nctxt4_maxepoch16\n",
      "[89.21428680419922], increased underdog gihc  \n",
      "data/fomo/output/CoPrompt_m0.0_wstd0.012_nctxt4_maxepoch16\n",
      "[86.64286041259766], coronado rugnovascotia  \n",
      "data/fomo/output/CoPrompt_m0.0_wstd0.08_nctxt3_maxepoch16\n",
      "[85.88095092773438], pastoral  \n",
      "data/fomo/output/CoPrompt_m0.9_wstd0.08_nctxt1_maxepoch16\n",
      "---\n",
      "[89.21428680419922], [79.9], increased underdog gihc  \n",
      "data/fomo/output/CoPrompt_m0.0_wstd0.012_nctxt4_maxepoch16\n",
      "[89.54762268066406], [75.5], organic career ativesized  \n",
      "data/fomo/output/CoPrompt_m0.0_wstd0.001_nctxt4_maxepoch16\n",
      "[77.83333587646484], [80.6], # canadiens  \n",
      "data/fomo/output/CoPrompt_m0.0_wstd0.001_nctxt2_maxepoch16\n",
      "[80.33333587646484], [76.3], taco lue novascotia  \n",
      "data/fomo/output/CoPrompt_m0.0_wstd0.08_nctxt3_maxepoch8\n",
      "[74.88095092773438], [81.3], raqmmon  \n",
      "data/fomo/output/CoPrompt_m0.0_wstd0.08_nctxt2_maxepoch16\n"
     ]
    }
   ],
   "source": [
    "analy('eurosat')"
   ],
   "metadata": {
    "collapsed": false,
    "ExecuteTime": {
     "end_time": "2024-05-12T14:07:12.951830536Z",
     "start_time": "2024-05-12T14:07:12.547732107Z"
    }
   },
   "id": "1ced4b2768b7eaee"
  },
  {
   "cell_type": "code",
   "execution_count": 4,
   "outputs": [
    {
     "name": "stdout",
     "output_type": "stream",
     "text": [
      "48 48\n",
      "[77.0180435180664], flowering stripes  \n",
      "data/fomo/output/CoPrompt_m0.0_wstd0.012_nctxt2_maxepoch16\n",
      "[76.82810974121094], wonderful flowering varieties –  \n",
      "data/fomo/output/CoPrompt_m0.9_wstd0.001_nctxt4_maxepoch16\n",
      "[76.73314666748047], flowerflowering wonderful  \n",
      "data/fomo/output/CoPrompt_m0.0_wstd0.012_nctxt3_maxepoch16\n",
      "[76.63817596435547], attracting flowering gardening –  \n",
      "data/fomo/output/CoPrompt_m0.0_wstd0.012_nctxt4_maxepoch16\n",
      "[76.06837463378906], autumn flowers  \n",
      "data/fomo/output/CoPrompt_m0.0_wstd0.08_nctxt2_maxepoch16\n",
      "---\n",
      "[74.54890441894531], [78.3], flowering flower  \n",
      "data/fomo/output/CoPrompt_m0.9_wstd0.08_nctxt2_maxepoch16\n",
      "[75.68850708007812], [76.0], flower  \n",
      "data/fomo/output/CoPrompt_m0.9_wstd0.012_nctxt1_maxepoch16\n",
      "[75.30863952636719], [76.3], flowering  \n",
      "data/fomo/output/CoPrompt_m0.9_wstd0.012_nctxt1_maxepoch8\n",
      "[75.59354400634766], [75.9], perennial wonderful scented :-  \n",
      "data/fomo/output/CoPrompt_m0.0_wstd0.012_nctxt4_maxepoch8\n",
      "[75.40361022949219], [75.7], pollinators  \n",
      "data/fomo/output/CoPrompt_m0.0_wstd0.001_nctxt1_maxepoch16\n"
     ]
    }
   ],
   "source": [
    "analy('oxford_flowers')"
   ],
   "metadata": {
    "collapsed": false,
    "ExecuteTime": {
     "end_time": "2024-05-12T14:07:15.840969406Z",
     "start_time": "2024-05-12T14:07:12.932463873Z"
    }
   },
   "id": "6b1c9b1cb12f395"
  },
  {
   "cell_type": "code",
   "execution_count": 5,
   "outputs": [
    {
     "name": "stdout",
     "output_type": "stream",
     "text": [
      "47 47\n",
      "[63.657405853271484], beautiful abstract  \n",
      "data/fomo/output/CoPrompt_m0.0_wstd0.001_nctxt2_maxepoch16\n",
      "[62.96296310424805], beautiful abstract  \n",
      "data/fomo/output/CoPrompt_m0.0_wstd0.012_nctxt2_maxepoch16\n",
      "[62.73147964477539], three ici  \n",
      "data/fomo/output/CoPrompt_m0.0_wstd0.08_nctxt2_maxepoch16\n",
      "[62.61574172973633], vibrant vibrant  \n",
      "data/fomo/output/CoPrompt_m0.9_wstd0.08_nctxt2_maxepoch16\n",
      "[62.38425827026367], textures abstract  \n",
      "data/fomo/output/CoPrompt_m0.9_wstd0.001_nctxt2_maxepoch16\n",
      "---\n",
      "[62.96296310424805], [62.8], beautiful abstract  \n",
      "data/fomo/output/CoPrompt_m0.0_wstd0.012_nctxt2_maxepoch16\n",
      "[62.03703689575195], [61.8], cropped  \n",
      "data/fomo/output/CoPrompt_m0.9_wstd0.001_nctxt1_maxepoch16\n",
      "[63.657405853271484], [58.9], beautiful abstract  \n",
      "data/fomo/output/CoPrompt_m0.0_wstd0.001_nctxt2_maxepoch16\n",
      "[62.38425827026367], [59.3], textures abstract  \n",
      "data/fomo/output/CoPrompt_m0.9_wstd0.001_nctxt2_maxepoch16\n",
      "[58.33333206176758], [62.8], deeply ically exploring  \n",
      "data/fomo/output/CoPrompt_m0.9_wstd0.001_nctxt3_maxepoch8\n"
     ]
    }
   ],
   "source": [
    "analy('dtd') # "
   ],
   "metadata": {
    "collapsed": false,
    "ExecuteTime": {
     "end_time": "2024-05-12T14:07:16.975676823Z",
     "start_time": "2024-05-12T14:07:15.821974138Z"
    }
   },
   "id": "4a5fdf0686727196"
  },
  {
   "cell_type": "code",
   "execution_count": 6,
   "outputs": [
    {
     "name": "stdout",
     "output_type": "stream",
     "text": [
      "0 0\n",
      "---\n"
     ]
    }
   ],
   "source": [
    "analy('fgvc_aircraft') # "
   ],
   "metadata": {
    "collapsed": false,
    "ExecuteTime": {
     "end_time": "2024-05-12T14:07:17.178522057Z",
     "start_time": "2024-05-12T14:07:16.977373948Z"
    }
   },
   "id": "973509a19e40472f"
  },
  {
   "cell_type": "code",
   "execution_count": 7,
   "outputs": [
    {
     "name": "stdout",
     "output_type": "stream",
     "text": [
      "0 0\n",
      "---\n"
     ]
    }
   ],
   "source": [
    "analy('caltech101') # "
   ],
   "metadata": {
    "collapsed": false,
    "ExecuteTime": {
     "end_time": "2024-05-12T14:07:17.701875635Z",
     "start_time": "2024-05-12T14:07:17.180176089Z"
    }
   },
   "id": "8bf6b46c8e48e7ad"
  },
  {
   "cell_type": "code",
   "execution_count": 8,
   "outputs": [
    {
     "name": "stdout",
     "output_type": "stream",
     "text": [
      "0 0\n",
      "---\n"
     ]
    }
   ],
   "source": [
    "analy('oxford_pets') # "
   ],
   "metadata": {
    "collapsed": false,
    "ExecuteTime": {
     "end_time": "2024-05-12T14:07:17.797689501Z",
     "start_time": "2024-05-12T14:07:17.703614486Z"
    }
   },
   "id": "85c5a960eea43a32"
  },
  {
   "cell_type": "code",
   "execution_count": 9,
   "outputs": [
    {
     "name": "stdout",
     "output_type": "stream",
     "text": [
      "0 0\n",
      "---\n"
     ]
    }
   ],
   "source": [
    "analy('stanford_cars') # "
   ],
   "metadata": {
    "collapsed": false,
    "ExecuteTime": {
     "end_time": "2024-05-12T14:07:17.842260981Z",
     "start_time": "2024-05-12T14:07:17.798640897Z"
    }
   },
   "id": "3a4b0f4c67e88631"
  },
  {
   "cell_type": "code",
   "execution_count": 10,
   "outputs": [
    {
     "name": "stdout",
     "output_type": "stream",
     "text": [
      "0 0\n",
      "---\n"
     ]
    }
   ],
   "source": [
    "analy('food101') # "
   ],
   "metadata": {
    "collapsed": false,
    "ExecuteTime": {
     "end_time": "2024-05-12T14:07:17.890850826Z",
     "start_time": "2024-05-12T14:07:17.838212937Z"
    }
   },
   "id": "7ef6476baac17766"
  },
  {
   "cell_type": "code",
   "execution_count": 11,
   "outputs": [
    {
     "name": "stdout",
     "output_type": "stream",
     "text": [
      "0 0\n",
      "---\n"
     ]
    }
   ],
   "source": [
    "analy('sun397') # "
   ],
   "metadata": {
    "collapsed": false,
    "ExecuteTime": {
     "end_time": "2024-05-12T14:07:17.939899853Z",
     "start_time": "2024-05-12T14:07:17.876000592Z"
    }
   },
   "id": "9e919ab9212b513d"
  },
  {
   "cell_type": "code",
   "execution_count": 12,
   "outputs": [
    {
     "name": "stdout",
     "output_type": "stream",
     "text": [
      "0 0\n",
      "---\n"
     ]
    }
   ],
   "source": [
    "analy('imagenet') # "
   ],
   "metadata": {
    "collapsed": false,
    "ExecuteTime": {
     "end_time": "2024-05-12T14:07:18.321727364Z",
     "start_time": "2024-05-12T14:07:17.918307463Z"
    }
   },
   "id": "944349b253728265"
  },
  {
   "cell_type": "code",
   "execution_count": 12,
   "outputs": [],
   "source": [],
   "metadata": {
    "collapsed": false,
    "ExecuteTime": {
     "end_time": "2024-05-12T14:07:18.322062425Z",
     "start_time": "2024-05-12T14:07:18.318113194Z"
    }
   },
   "id": "8e3c9be1b05fe7d6"
  }
 ],
 "metadata": {
  "kernelspec": {
   "display_name": "Python 3",
   "language": "python",
   "name": "python3"
  },
  "language_info": {
   "codemirror_mode": {
    "name": "ipython",
    "version": 2
   },
   "file_extension": ".py",
   "mimetype": "text/x-python",
   "name": "python",
   "nbconvert_exporter": "python",
   "pygments_lexer": "ipython2",
   "version": "2.7.6"
  }
 },
 "nbformat": 4,
 "nbformat_minor": 5
}
