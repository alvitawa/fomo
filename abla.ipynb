{
 "cells": [
  {
   "cell_type": "code",
   "execution_count": null,
   "outputs": [],
   "source": [],
   "metadata": {
    "collapsed": false,
    "ExecuteTime": {
     "end_time": "2024-05-26T09:19:16.639270893Z",
     "start_time": "2024-05-26T09:19:16.534329736Z"
    }
   },
   "id": "498de0e576f6ed9b"
  },
  {
   "cell_type": "code",
   "execution_count": null,
   "outputs": [],
   "source": [],
   "metadata": {
    "collapsed": false,
    "ExecuteTime": {
     "end_time": "2024-05-26T09:19:16.639540257Z",
     "start_time": "2024-05-26T09:19:16.534460164Z"
    }
   },
   "id": "44965680d8d09c3b"
  },
  {
   "cell_type": "code",
   "execution_count": 1,
   "outputs": [],
   "source": [
    "import re\n",
    "from pathlib import Path\n",
    "\n",
    "from tensorboard.backend.event_processing import event_accumulator\n",
    "import pandas as pd\n",
    "\n",
    "\n",
    "baseline_avgs = {\n",
    "    'ucf101': 73.85,\n",
    "    'eurosat': 60.03,\n",
    "    'oxford_flowers': 74.83,\n",
    "    'dtd': 56.37,\n",
    "    'fgvc_aircraft': 31.09,\n",
    "    'caltech101': 95.40,\n",
    "    'oxford_pets': 94.12,\n",
    "    'stanford_cars': 68.65,\n",
    "    'food101': 90.66,\n",
    "    'sun397': 72.23,\n",
    "    'imagenet': 70.22,\n",
    "}\n",
    "\n",
    "losses = dict()\n",
    "\n",
    "from matplotlib import pyplot as plt\n",
    "\n",
    "per_m_base = dict()\n",
    "per_m_new = dict()\n",
    "\n",
    "def analy(ds):\n",
    "    def parse_tensorboard(path, scalars):\n",
    "        \"\"\"returns a dictionary of pandas dataframes for each requested scalar\"\"\"\n",
    "        ea = event_accumulator.EventAccumulator(\n",
    "            path,\n",
    "            size_guidance={event_accumulator.SCALARS: 0},\n",
    "        )\n",
    "        _absorb_print = ea.Reload()\n",
    "        # make sure the scalars are in the event accumulator tags\n",
    "        assert all(\n",
    "            s in ea.Tags()[\"scalars\"] for s in scalars\n",
    "        ), \"some scalars were not found in the event accumulator\"\n",
    "        return {k: pd.DataFrame(ea.Scalars(k)) for k in scalars}\n",
    "\n",
    "    # all dirs like data/fomo/output/CoPrompt_\n",
    "    dirs = list(Path('data/fomo/output').glob('transferds*'))\n",
    "    rs = []\n",
    "    rsa = []\n",
    "    for dir in dirs:\n",
    "        seed1_train = dir / f'train_base/{ds}/shots_16/CoPrompt/coprompt/seed1/'\n",
    "        tensorboard = seed1_train / 'tensorboard'\n",
    "        clog = seed1_train / 'clog.txt'\n",
    "        \n",
    "        if not clog.exists():\n",
    "            continue\n",
    "            \n",
    "        with open(clog, 'r') as f:\n",
    "            lines = f.readlines()\n",
    "            if len(lines) < 2:\n",
    "                continue\n",
    "            p = lines[-1][4:-5]\n",
    "        \n",
    "        # read from tensorboard)\n",
    "        try:\n",
    "            df = parse_tensorboard(tensorboard, ['test/accuracy'])\n",
    "            test_acc = df['test/accuracy'].iloc[-1]['value']\n",
    "        except Exception as e:\n",
    "            continue\n",
    "            \n",
    "        rs.append((test_acc, p, str(dir)))\n",
    "        \n",
    "        seed1_test = dir / f'test_new/{ds}/shots_16/CoPrompt/seed1/'\n",
    "        out = seed1_test / 'output.log'\n",
    "# => result\n",
    "# * total: 1,410\n",
    "# * correct: 1,070\n",
    "# * accuracy: 75.9%\n",
    "# * error: 24.1%\n",
    "# * macro_f1: 70.8%\n",
    "        \n",
    "        try:\n",
    "            # use regex to match format above\n",
    "            acc = re.search(r'accuracy: ([0-9.]+)%', out.read_text()).group(1)\n",
    "            acc = float(acc)\n",
    "            rsa.append((test_acc, p, acc, str(dir)))\n",
    "        except Exception as e:\n",
    "            pass\n",
    "        \n",
    "        \n",
    "        \n",
    "        \n",
    "    print(len(rs), len(rsa))\n",
    "    # for test_acc, p, m in list(sorted(rs, reverse=True))[:5]:\n",
    "    #     print(f\"[{test_acc}], {p}\")\n",
    "    #     print(m)\n",
    "    # \n",
    "    print('---')\n",
    "        # \n",
    "    #%%\n",
    "    best = list(sorted(rsa, reverse=True, key=lambda x:  x[0] + x[2]))[0]\n",
    "    best_dir = best[3]\n",
    "    best_avg = (best[0] + best[2]) / 2\n",
    "    seed1_train = Path(best_dir) / f'train_base/{ds}/shots_16/CoPrompt/coprompt/seed1/'\n",
    "    tensorboard = seed1_train / 'tensorboard'\n",
    "    df = parse_tensorboard(tensorboard, ['train/loss'])\n",
    "    \n",
    "    losses[ds] = df['train/loss']['value']\n",
    "    \n",
    "    \n",
    "    for test_acc, p, acc, m in list(sorted(rsa, reverse=True, key=lambda x:  x[0] + x[2]))[:10]:\n",
    "        avg = (test_acc + acc) / 2\n",
    "        baseline_avg = baseline_avgs[ds]\n",
    "        print(f\"[{test_acc}], [{acc}], ({best_avg-avg}) [{avg-baseline_avg}] {p}\")\n",
    "        print(m)\n",
    "        per_m_base.setdefault(m, []).append(test_acc)\n",
    "        per_m_new.setdefault(m, []).append(acc)\n",
    "\n",
    "    \n",
    "    # plt.plot(df['train/loss']['step'], df['train/loss']['value'])\n",
    "    \n",
    "    \n",
    "        "
   ],
   "metadata": {
    "collapsed": false,
    "ExecuteTime": {
     "end_time": "2024-05-26T09:19:16.741561628Z",
     "start_time": "2024-05-26T09:19:16.534509257Z"
    }
   },
   "id": "3019dc14bd16199b"
  },
  {
   "cell_type": "code",
   "execution_count": 1,
   "outputs": [],
   "source": [],
   "metadata": {
    "collapsed": false,
    "ExecuteTime": {
     "end_time": "2024-05-26T09:19:16.741869256Z",
     "start_time": "2024-05-26T09:19:16.665192804Z"
    }
   },
   "id": "8f000640234238ac"
  },
  {
   "cell_type": "code",
   "execution_count": 2,
   "outputs": [
    {
     "name": "stderr",
     "output_type": "stream",
     "text": [
      "2024-05-26 11:19:16.813108: I tensorflow/core/util/port.cc:113] oneDNN custom operations are on. You may see slightly different numerical results due to floating-point round-off errors from different computation orders. To turn them off, set the environment variable `TF_ENABLE_ONEDNN_OPTS=0`.\n",
      "2024-05-26 11:19:16.849168: I tensorflow/core/platform/cpu_feature_guard.cc:210] This TensorFlow binary is optimized to use available CPU instructions in performance-critical operations.\n",
      "To enable the following instructions: AVX2 AVX_VNNI FMA, in other operations, rebuild TensorFlow with the appropriate compiler flags.\n",
      "2024-05-26 11:19:17.503637: W tensorflow/compiler/tf2tensorrt/utils/py_utils.cc:38] TF-TRT Warning: Could not find TensorRT\n"
     ]
    },
    {
     "name": "stdout",
     "output_type": "stream",
     "text": [
      "4 4\n",
      "---\n",
      "[75.64633178710938], [78.0], (0.0) [2.973165893554693] inspirational  \n",
      "data/fomo/output/transferds\n",
      "[74.81903076171875], [76.3], (1.2636505126953068) [1.7095153808593864] greatest  \n",
      "data/fomo/output/transferds_nofilter\n",
      "[74.81903076171875], [76.3], (1.2636505126953068) [1.7095153808593864] greatest  \n",
      "data/fomo/output/transferds_noselect\n",
      "[70.37228393554688], [77.3], (2.9870239257812443) [-0.013858032226551131] ironic  \n",
      "data/fomo/output/transferds_noshared\n"
     ]
    }
   ],
   "source": [
    "analy('ucf101')"
   ],
   "metadata": {
    "collapsed": false,
    "ExecuteTime": {
     "end_time": "2024-05-26T09:19:18.307174475Z",
     "start_time": "2024-05-26T09:19:16.667331781Z"
    }
   },
   "id": "945d942d17bb6861"
  },
  {
   "cell_type": "code",
   "execution_count": 3,
   "outputs": [
    {
     "name": "stdout",
     "output_type": "stream",
     "text": [
      "4 4\n",
      "---\n",
      "[89.21428680419922], [79.9], (0.0) [24.52714340209961] increased underdog gihc  \n",
      "data/fomo/output/transferds\n",
      "[82.57142639160156], [63.8], (11.371430206298825) [13.155713195800786] �fridaynightoceans carnival  \n",
      "data/fomo/output/transferds_nofilter\n",
      "[82.57142639160156], [63.8], (11.371430206298825) [13.155713195800786] �fridaynightoceans carnival  \n",
      "data/fomo/output/transferds_noselect\n",
      "[67.23809814453125], [76.6], (12.63809432983399) [11.889049072265621] increased underdog gihc  \n",
      "data/fomo/output/transferds_noshared\n"
     ]
    }
   ],
   "source": [
    "analy('eurosat')"
   ],
   "metadata": {
    "collapsed": false,
    "ExecuteTime": {
     "end_time": "2024-05-26T09:19:18.394980715Z",
     "start_time": "2024-05-26T09:19:18.291673684Z"
    }
   },
   "id": "1ced4b2768b7eaee"
  },
  {
   "cell_type": "code",
   "execution_count": 4,
   "outputs": [],
   "source": [
    "# analy('dtd')"
   ],
   "metadata": {
    "collapsed": false,
    "ExecuteTime": {
     "end_time": "2024-05-26T09:19:18.395632890Z",
     "start_time": "2024-05-26T09:19:18.329524726Z"
    }
   },
   "id": "6b1c9b1cb12f395"
  },
  {
   "cell_type": "code",
   "execution_count": 5,
   "outputs": [
    {
     "name": "stdout",
     "output_type": "stream",
     "text": [
      "4 4\n",
      "---\n",
      "[95.1089859008789], [98.2], (0.0) [2.534492950439443] catsofinstagram petday !  \n",
      "data/fomo/output/transferds\n",
      "[94.04572296142578], [97.0], (1.1316314697265568) [1.402861480712886] precise bonus handsome  \n",
      "data/fomo/output/transferds_nofilter\n",
      "[94.04572296142578], [97.0], (1.1316314697265568) [1.402861480712886] precise bonus handsome  \n",
      "data/fomo/output/transferds_noselect\n",
      "[90.37745666503906], [97.0], (2.965764617919916) [-0.4312716674804733] temporary petday vering  \n",
      "data/fomo/output/transferds_noshared\n"
     ]
    }
   ],
   "source": [
    "analy('oxford_pets') # "
   ],
   "metadata": {
    "collapsed": false,
    "ExecuteTime": {
     "end_time": "2024-05-26T09:19:18.481522244Z",
     "start_time": "2024-05-26T09:19:18.347319319Z"
    }
   },
   "id": "4a5fdf0686727196"
  },
  {
   "cell_type": "code",
   "execution_count": 6,
   "outputs": [
    {
     "name": "stdout",
     "output_type": "stream",
     "text": [
      "data/fomo/output/transferds 86.65653483072917 85.36666666666667\n",
      "data/fomo/output/transferds_nofilter 83.8120600382487 79.03333333333333\n",
      "data/fomo/output/transferds_noselect 83.8120600382487 79.03333333333333\n",
      "data/fomo/output/transferds_noshared 75.99594624837239 83.63333333333333\n"
     ]
    }
   ],
   "source": [
    "for m in per_m_base:\n",
    "    base_avg = sum(per_m_base[m]) / len(per_m_base[m])\n",
    "    new_avg = sum(per_m_new[m]) / len(per_m_new[m])\n",
    "    print(f\"{m} {base_avg} {new_avg}\")"
   ],
   "metadata": {
    "collapsed": false,
    "ExecuteTime": {
     "end_time": "2024-05-26T09:19:18.538135474Z",
     "start_time": "2024-05-26T09:19:18.435763425Z"
    }
   },
   "id": "973509a19e40472f"
  },
  {
   "cell_type": "code",
   "execution_count": 6,
   "outputs": [],
   "source": [],
   "metadata": {
    "collapsed": false,
    "ExecuteTime": {
     "end_time": "2024-05-26T09:19:18.538520290Z",
     "start_time": "2024-05-26T09:19:18.482590849Z"
    }
   },
   "id": "8bf6b46c8e48e7ad"
  },
  {
   "cell_type": "code",
   "execution_count": 6,
   "outputs": [],
   "source": [],
   "metadata": {
    "collapsed": false,
    "ExecuteTime": {
     "end_time": "2024-05-26T09:19:18.538744597Z",
     "start_time": "2024-05-26T09:19:18.482668435Z"
    }
   },
   "id": "85c5a960eea43a32"
  },
  {
   "cell_type": "code",
   "execution_count": 6,
   "outputs": [],
   "source": [],
   "metadata": {
    "collapsed": false,
    "ExecuteTime": {
     "end_time": "2024-05-26T09:19:18.538929075Z",
     "start_time": "2024-05-26T09:19:18.482705244Z"
    }
   },
   "id": "3a4b0f4c67e88631"
  },
  {
   "cell_type": "code",
   "execution_count": 6,
   "outputs": [],
   "source": [],
   "metadata": {
    "collapsed": false,
    "ExecuteTime": {
     "end_time": "2024-05-26T09:19:18.539114927Z",
     "start_time": "2024-05-26T09:19:18.482736677Z"
    }
   },
   "id": "7ef6476baac17766"
  },
  {
   "cell_type": "code",
   "execution_count": 6,
   "outputs": [],
   "source": [],
   "metadata": {
    "collapsed": false,
    "ExecuteTime": {
     "end_time": "2024-05-26T09:19:18.539621710Z",
     "start_time": "2024-05-26T09:19:18.482770595Z"
    }
   },
   "id": "9e919ab9212b513d"
  },
  {
   "cell_type": "code",
   "execution_count": 6,
   "outputs": [],
   "source": [],
   "metadata": {
    "collapsed": false,
    "ExecuteTime": {
     "end_time": "2024-05-26T09:19:18.539817072Z",
     "start_time": "2024-05-26T09:19:18.482919724Z"
    }
   },
   "id": "944349b253728265"
  },
  {
   "cell_type": "code",
   "execution_count": 7,
   "outputs": [
    {
     "name": "stdout",
     "output_type": "stream",
     "text": [
      "ucf101 1000\n",
      "eurosat 320\n",
      "oxford_pets 1000\n"
     ]
    }
   ],
   "source": [
    "for ds, loss in losses.items():\n",
    "    if len(loss) > 1000:\n",
    "        steps = range(1000)\n",
    "        # reduce resolution\n",
    "        n_actual = len(loss)\n",
    "        n_desired = 1000\n",
    "        step_size = n_actual / n_desired\n",
    "        loss = [loss[int(i * step_size)] for i in steps]\n",
    "    print(ds, len(loss))\n",
    "        \n",
    "    plot = \"\"\"\n",
    "    \\\\begin{tikzpicture}\n",
    "    \\\\begin{axis}[\n",
    "        width=7cm,\n",
    "        % title={Sparsity across the Network},\n",
    "        % xlabel={Step},\n",
    "        % ylabel={Train Loss},\n",
    "        % xmin=0, xmax=5,\n",
    "        % ymin=-0.05, ymax=1,\n",
    "        % xtick=data,\n",
    "        % ytick={0.0, 0.2,0.4,0.6,0.8,1},\n",
    "        xticklabel={\\pgfmathparse{\\\\tick}\\pgfmathprintnumber{\\pgfmathresult}\\%},\n",
    "        legend pos=south east,\n",
    "        ymajorgrids=true,\n",
    "        grid style=dashed,\n",
    "    ]\n",
    "\n",
    "        % weights\n",
    "        \\\\addplot[\n",
    "            % name path global=middle,\n",
    "            % only marks,\n",
    "            color=blue,\n",
    "            % mark=square,\n",
    "        ]\n",
    "        coordinates {\n",
    "             COORDINATES\n",
    "        };\n",
    "    \\\\end{axis}\n",
    "    \\\\end{tikzpicture}\n",
    "    \"\"\".replace('COORDINATES', '\\n'.join([f'({x/len(loss)*100}, {y})' for x, y in zip(range(len(loss)), loss)]))\n",
    "    with open(f'loss_{ds}.tex', 'w') as f:\n",
    "        f.write(plot)"
   ],
   "metadata": {
    "collapsed": false,
    "ExecuteTime": {
     "end_time": "2024-05-26T09:19:18.540497574Z",
     "start_time": "2024-05-26T09:19:18.482982353Z"
    }
   },
   "id": "8e3c9be1b05fe7d6"
  },
  {
   "cell_type": "code",
   "execution_count": 8,
   "outputs": [
    {
     "ename": "NameError",
     "evalue": "name 'loss_stanford_cars' is not defined",
     "output_type": "error",
     "traceback": [
      "\u001B[0;31m---------------------------------------------------------------------------\u001B[0m",
      "\u001B[0;31mNameError\u001B[0m                                 Traceback (most recent call last)",
      "Cell \u001B[0;32mIn[8], line 1\u001B[0m\n\u001B[0;32m----> 1\u001B[0m loss_stanford_cars\u001B[38;5;241m.\u001B[39mtex\n",
      "\u001B[0;31mNameError\u001B[0m: name 'loss_stanford_cars' is not defined"
     ]
    }
   ],
   "source": [
    "loss_stanford_cars.tex"
   ],
   "metadata": {
    "collapsed": false,
    "ExecuteTime": {
     "end_time": "2024-05-26T09:19:18.817787367Z",
     "start_time": "2024-05-26T09:19:18.491835596Z"
    }
   },
   "id": "56e547ea7c4869c"
  },
  {
   "cell_type": "code",
   "execution_count": null,
   "outputs": [],
   "source": [],
   "metadata": {
    "collapsed": false,
    "ExecuteTime": {
     "start_time": "2024-05-26T09:19:18.819086727Z"
    }
   },
   "id": "a92d7d9955dcdbc1"
  }
 ],
 "metadata": {
  "kernelspec": {
   "display_name": "Python 3",
   "language": "python",
   "name": "python3"
  },
  "language_info": {
   "codemirror_mode": {
    "name": "ipython",
    "version": 2
   },
   "file_extension": ".py",
   "mimetype": "text/x-python",
   "name": "python",
   "nbconvert_exporter": "python",
   "pygments_lexer": "ipython2",
   "version": "2.7.6"
  }
 },
 "nbformat": 4,
 "nbformat_minor": 5
}
